{
  "cells": [
    {
      "cell_type": "markdown",
      "source": [
        "# 1. Run the cell below and play the music player to keep the Colab's tab alive"
      ],
      "metadata": {
        "id": "cl_vAnC1ULpF"
      }
    },
    {
      "cell_type": "code",
      "source": [
        "%%html\n",
        "<b>Press play on the music player(Uses only 13MB of data)</b><br/>\n",
        "<audio src=\"https://henk.tech/colabkobold/silence.m4a\" controls>"
      ],
      "metadata": {
        "id": "XAYaLRprRiOD"
      },
      "execution_count": null,
      "outputs": []
    },
    {
      "cell_type": "markdown",
      "source": [
        "# 2. While the music player is playing, run the setup"
      ],
      "metadata": {
        "id": "rM7pqlq1UUus"
      }
    },
    {
      "cell_type": "code",
      "execution_count": null,
      "metadata": {
        "id": "sBbcB4vwj_jm"
      },
      "outputs": [],
      "source": [
        "!pip install --upgrade fastapi==0.90.1\n",
        "!git clone https://github.com/AUTOMATIC1111/stable-diffusion-webui\n",
        "!git clone https://github.com/yfszzx/stable-diffusion-webui-images-browser /content/stable-diffusion-webui/extensions/stable-diffusion-webui-images-browser\n",
        "!git clone https://github.com/DominikDoom/a1111-sd-webui-tagcomplete /content/stable-diffusion-webui/extensions/a1111-sd-webui-tagcomplete\n",
        "!curl -Lo qgo10b.safetensors https://huggingface.co/nolanaatama/qgo10b/resolve/main/qgo10b.safetensors\n",
        "!mv \"/content/qgo10b.safetensors\" \"/content/stable-diffusion-webui/models/Stable-diffusion\"\n",
        "import shutil\n",
        "shutil.rmtree('/content/stable-diffusion-webui/embeddings')\n",
        "%cd /content/stable-diffusion-webui\n",
        "!git checkout 3715ece\n",
        "!git clone https://huggingface.co/nolanaatama/embeddings\n",
        "!COMMANDLINE_ARGS=\"--share --disable-safe-unpickle --no-half-vae --xformers --reinstall-xformers --enable-insecure-extension-access\" REQS_FILE=\"requirements.txt\" python launch.py"
      ]
    },
    {
      "cell_type": "markdown",
      "source": [
        "## (OPTIONAL) LoRAs"
      ],
      "metadata": {
        "id": "0DwYF_aLUXKy"
      }
    },
    {
      "cell_type": "markdown",
      "source": [
        "### 1. After the gradio link show up, stop the first cell & clear the code output👆"
      ],
      "metadata": {
        "id": "JUtPlg328avv"
      }
    },
    {
      "cell_type": "markdown",
      "source": [
        "### 2. Load the LoRA & launch the web ui"
      ],
      "metadata": {
        "id": "xy_WyDzNUgd2"
      }
    },
    {
      "cell_type": "code",
      "source": [
        "# Shirtlift\n",
        "!curl -Lo shirtlift.safetensors https://huggingface.co/nolanaatama/shrtlftlora/resolve/main/shrtlftlora.safetensors\n",
        "!mv \"/content/stable-diffusion-webui/shirtlift.safetensors\" \"/content/stable-diffusion-webui/models/Lora\"\n",
        "\n",
        "# Middle Finger\n",
        "!curl -Lo middleFingerLORA_midfingv1.safetensors https://huggingface.co/nolanaatama/mddlfngrlora/resolve/main/mddlfngrlora.safetensors\n",
        "!mv \"/content/stable-diffusion-webui/middleFingerLORA_midfingv1.safetensors\" \"/content/stable-diffusion-webui/models/Lora\"\n",
        "\n",
        "# Gun2Head Pose\n",
        "!curl -Lo Gun2HeadV3.safetensors https://huggingface.co/nolanaatama/gn2hdpslora/resolve/main/gn2hdpslora.safetensors\n",
        "!mv \"/content/stable-diffusion-webui/Gun2HeadV3.safetensors\" \"/content/stable-diffusion-webui/models/Lora\"\n",
        "\n",
        "!COMMANDLINE_ARGS=\"--share --disable-safe-unpickle --no-half-vae --xformers --reinstall-xformers --enable-insecure-extension-access\" REQS_FILE=\"requirements.txt\" python launch.py"
      ],
      "metadata": {
        "id": "3EOPSiOgUs4z"
      },
      "execution_count": null,
      "outputs": []
    },
    {
      "cell_type": "markdown",
      "metadata": {
        "id": "Lwoev-HCYBL1"
      },
      "source": [
        "# 📚 GitHub for more: [_@nolanaatama_](https://github.com/nolanaatama)\n",
        "# 📦 Repo: [Github](https://github.com/nolanaatama/sd-1click-colab-mobile)"
      ]
    }
  ],
  "metadata": {
    "accelerator": "GPU",
    "colab": {
      "provenance": []
    },
    "gpuClass": "standard",
    "kernelspec": {
      "display_name": "Python 3",
      "name": "python3"
    },
    "language_info": {
      "name": "python"
    }
  },
  "nbformat": 4,
  "nbformat_minor": 0
}